{
 "cells": [
  {
   "cell_type": "code",
   "execution_count": 1,
   "metadata": {},
   "outputs": [],
   "source": [
    "import pandas as pd\n",
    "import matplotlib as plt"
   ]
  },
  {
   "cell_type": "code",
   "execution_count": 12,
   "metadata": {},
   "outputs": [],
   "source": [
    "NFL_2019 = pd.read_csv('./NFL_Data/pbp-2019.csv')\n",
    "NFL_2018 = pd.read_csv('./NFL_Data/pbp-2018.csv')\n",
    "NFL_2017 = pd.read_csv('./NFL_Data/pbp-2017.csv')\n",
    "NFL_2016 = pd.read_csv('./NFL_Data/pbp-2016.csv')\n",
    "NFL_2015 = pd.read_csv('./NFL_Data/pbp-2015.csv')"
   ]
  },
  {
   "cell_type": "code",
   "execution_count": 14,
   "metadata": {},
   "outputs": [],
   "source": [
    "nfl_15_19 = pd.concat([NFL_2019, NFL_2018, NFL_2017, NFL_2016, NFL_2015])"
   ]
  },
  {
   "cell_type": "code",
   "execution_count": 18,
   "metadata": {},
   "outputs": [],
   "source": [
    "nfl_15_19 = nfl_15_19.drop(columns=['Unnamed: 10', 'Unnamed: 12', 'Unnamed: 16', 'Unnamed: 17'])"
   ]
  },
  {
   "cell_type": "code",
   "execution_count": 21,
   "metadata": {},
   "outputs": [
    {
     "name": "stdout",
     "output_type": "stream",
     "text": [
      "<class 'pandas.core.frame.DataFrame'>\n",
      "Int64Index: 224723 entries, 0 to 46276\n",
      "Data columns (total 41 columns):\n",
      "GameId                            224723 non-null int64\n",
      "GameDate                          224723 non-null object\n",
      "Quarter                           224723 non-null int64\n",
      "Minute                            224723 non-null int64\n",
      "Second                            224723 non-null int64\n",
      "OffenseTeam                       208161 non-null object\n",
      "DefenseTeam                       224723 non-null object\n",
      "Down                              224723 non-null int64\n",
      "ToGo                              224723 non-null int64\n",
      "YardLine                          224723 non-null int64\n",
      "SeriesFirstDown                   224723 non-null int64\n",
      "NextScore                         224723 non-null int64\n",
      "Description                       224722 non-null object\n",
      "TeamWin                           224723 non-null int64\n",
      "SeasonYear                        224723 non-null int64\n",
      "Yards                             224723 non-null int64\n",
      "Formation                         220971 non-null object\n",
      "PlayType                          217055 non-null object\n",
      "IsRush                            224723 non-null int64\n",
      "IsPass                            224723 non-null int64\n",
      "IsIncomplete                      224723 non-null int64\n",
      "IsTouchdown                       224723 non-null int64\n",
      "PassType                          93122 non-null object\n",
      "IsSack                            224723 non-null int64\n",
      "IsChallenge                       224723 non-null int64\n",
      "IsChallengeReversed               224723 non-null int64\n",
      "Challenger                        0 non-null float64\n",
      "IsMeasurement                     224723 non-null int64\n",
      "IsInterception                    224723 non-null int64\n",
      "IsFumble                          224723 non-null int64\n",
      "IsPenalty                         224723 non-null int64\n",
      "IsTwoPointConversion              224723 non-null int64\n",
      "IsTwoPointConversionSuccessful    224723 non-null int64\n",
      "RushDirection                     61151 non-null object\n",
      "YardLineFixed                     224723 non-null int64\n",
      "YardLineDirection                 224723 non-null object\n",
      "IsPenaltyAccepted                 224723 non-null int64\n",
      "PenaltyTeam                       19376 non-null object\n",
      "IsNoPlay                          224723 non-null int64\n",
      "PenaltyType                       19382 non-null object\n",
      "PenaltyYards                      224723 non-null int64\n",
      "dtypes: float64(1), int64(29), object(11)\n",
      "memory usage: 72.0+ MB\n"
     ]
    }
   ],
   "source": [
    "nfl_15_19.info()\n"
   ]
  },
  {
   "cell_type": "code",
   "execution_count": 60,
   "metadata": {},
   "outputs": [],
   "source": [
    "import numpy as np\n",
    "#temp=nfl_15_19.Description.fillna(\"0\")\n",
    "nfl_15_19[\"Injury\"] = pd.np.where(nfl_15_19.Description.str.contains(\"INJUR\"), \"1\", \"0\")"
   ]
  },
  {
   "cell_type": "code",
   "execution_count": 61,
   "metadata": {},
   "outputs": [
    {
     "data": {
      "text/plain": [
       "0    220743\n",
       "1      3980\n",
       "Name: Injury, dtype: int64"
      ]
     },
     "execution_count": 61,
     "metadata": {},
     "output_type": "execute_result"
    }
   ],
   "source": [
    "test = nfl_15_19[['Description', 'Injury']]\n",
    "test.Injury.value_counts()"
   ]
  },
  {
   "cell_type": "code",
   "execution_count": 62,
   "metadata": {},
   "outputs": [
    {
     "data": {
      "text/html": [
       "<div>\n",
       "<style scoped>\n",
       "    .dataframe tbody tr th:only-of-type {\n",
       "        vertical-align: middle;\n",
       "    }\n",
       "\n",
       "    .dataframe tbody tr th {\n",
       "        vertical-align: top;\n",
       "    }\n",
       "\n",
       "    .dataframe thead th {\n",
       "        text-align: right;\n",
       "    }\n",
       "</style>\n",
       "<table border=\"1\" class=\"dataframe\">\n",
       "  <thead>\n",
       "    <tr style=\"text-align: right;\">\n",
       "      <th></th>\n",
       "      <th>Description</th>\n",
       "      <th>Injury</th>\n",
       "    </tr>\n",
       "  </thead>\n",
       "  <tbody>\n",
       "    <tr>\n",
       "      <td>4194</td>\n",
       "      <td>TIMEOUT #2 BY TEN AT 00:55. TIMEOUT IS CHARGED...</td>\n",
       "      <td>1</td>\n",
       "    </tr>\n",
       "    <tr>\n",
       "      <td>10964</td>\n",
       "      <td>(11:12) (SHOTGUN) 4-D.CARR PASS SHORT LEFT TO ...</td>\n",
       "      <td>1</td>\n",
       "    </tr>\n",
       "    <tr>\n",
       "      <td>14263</td>\n",
       "      <td>(2:59) 26-O.DARKWA RIGHT TACKLE TO NYG 34 FOR ...</td>\n",
       "      <td>1</td>\n",
       "    </tr>\n",
       "    <tr>\n",
       "      <td>40045</td>\n",
       "      <td>(13:45) 8-D.JONES PUNTS 54 YARDS TO WAS 26, CE...</td>\n",
       "      <td>1</td>\n",
       "    </tr>\n",
       "    <tr>\n",
       "      <td>18600</td>\n",
       "      <td>(10:05) 34-I.CROWELL LEFT GUARD TO 50 FOR 8 YA...</td>\n",
       "      <td>1</td>\n",
       "    </tr>\n",
       "    <tr>\n",
       "      <td>...</td>\n",
       "      <td>...</td>\n",
       "      <td>...</td>\n",
       "    </tr>\n",
       "    <tr>\n",
       "      <td>33385</td>\n",
       "      <td>(12:34) 24-T.YELDON UP THE MIDDLE TO JAX 31 FO...</td>\n",
       "      <td>0</td>\n",
       "    </tr>\n",
       "    <tr>\n",
       "      <td>33386</td>\n",
       "      <td>(13:11) 5-B.BORTLES PASS SHORT RIGHT TO 17-D.C...</td>\n",
       "      <td>0</td>\n",
       "    </tr>\n",
       "    <tr>\n",
       "      <td>33387</td>\n",
       "      <td>(13:18) 8-T.DANIEL PUNTS 43 YARDS TO JAX 10, C...</td>\n",
       "      <td>0</td>\n",
       "    </tr>\n",
       "    <tr>\n",
       "      <td>33388</td>\n",
       "      <td>(14:01) (SHOTGUN) 4-D.WATSON SCRAMBLES UP THE ...</td>\n",
       "      <td>0</td>\n",
       "    </tr>\n",
       "    <tr>\n",
       "      <td>46276</td>\n",
       "      <td>(3:31) 9-P.DAWSON 23 YARD FIELD GOAL IS GOOD, ...</td>\n",
       "      <td>0</td>\n",
       "    </tr>\n",
       "  </tbody>\n",
       "</table>\n",
       "<p>224723 rows × 2 columns</p>\n",
       "</div>"
      ],
      "text/plain": [
       "                                             Description Injury\n",
       "4194   TIMEOUT #2 BY TEN AT 00:55. TIMEOUT IS CHARGED...      1\n",
       "10964  (11:12) (SHOTGUN) 4-D.CARR PASS SHORT LEFT TO ...      1\n",
       "14263  (2:59) 26-O.DARKWA RIGHT TACKLE TO NYG 34 FOR ...      1\n",
       "40045  (13:45) 8-D.JONES PUNTS 54 YARDS TO WAS 26, CE...      1\n",
       "18600  (10:05) 34-I.CROWELL LEFT GUARD TO 50 FOR 8 YA...      1\n",
       "...                                                  ...    ...\n",
       "33385  (12:34) 24-T.YELDON UP THE MIDDLE TO JAX 31 FO...      0\n",
       "33386  (13:11) 5-B.BORTLES PASS SHORT RIGHT TO 17-D.C...      0\n",
       "33387  (13:18) 8-T.DANIEL PUNTS 43 YARDS TO JAX 10, C...      0\n",
       "33388  (14:01) (SHOTGUN) 4-D.WATSON SCRAMBLES UP THE ...      0\n",
       "46276  (3:31) 9-P.DAWSON 23 YARD FIELD GOAL IS GOOD, ...      0\n",
       "\n",
       "[224723 rows x 2 columns]"
      ]
     },
     "execution_count": 62,
     "metadata": {},
     "output_type": "execute_result"
    }
   ],
   "source": [
    "test.sort_values(by='Injury', ascending=False)"
   ]
  },
  {
   "cell_type": "code",
   "execution_count": 66,
   "metadata": {},
   "outputs": [],
   "source": [
    "test.to_csv('./NFL_Data/test.csv')"
   ]
  },
  {
   "cell_type": "code",
   "execution_count": 67,
   "metadata": {},
   "outputs": [],
   "source": [
    "nfl_15_19.to_csv('./NFL_Data/nfl_15_19.csv')"
   ]
  },
  {
   "cell_type": "code",
   "execution_count": null,
   "metadata": {},
   "outputs": [],
   "source": []
  }
 ],
 "metadata": {
  "kernelspec": {
   "display_name": "Python 3",
   "language": "python",
   "name": "python3"
  },
  "language_info": {
   "codemirror_mode": {
    "name": "ipython",
    "version": 3
   },
   "file_extension": ".py",
   "mimetype": "text/x-python",
   "name": "python",
   "nbconvert_exporter": "python",
   "pygments_lexer": "ipython3",
   "version": "3.7.4"
  }
 },
 "nbformat": 4,
 "nbformat_minor": 2
}
